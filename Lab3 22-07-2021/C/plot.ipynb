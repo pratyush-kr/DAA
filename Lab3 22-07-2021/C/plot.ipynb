{
 "cells": [
  {
   "cell_type": "code",
   "execution_count": 1,
   "source": [
    "import matplotlib.pyplot as plt\n",
    "import pandas as pd\n",
    "import numpy as np\n",
    "import math"
   ],
   "outputs": [],
   "metadata": {}
  },
  {
   "cell_type": "code",
   "execution_count": 2,
   "source": [
    "dataset = pd.read_csv('LS_Data.csv')\n",
    "print(dataset)"
   ],
   "outputs": [
    {
     "output_type": "stream",
     "name": "stdout",
     "text": [
      "     n  looped\n",
      "0   44      44\n",
      "1   20      20\n",
      "2   19      19\n",
      "3   65      65\n",
      "4   80      80\n",
      "..  ..     ...\n",
      "95  66      66\n",
      "96  89      89\n",
      "97  10      10\n",
      "98  99      53\n",
      "99  97       5\n",
      "\n",
      "[100 rows x 2 columns]\n"
     ]
    }
   ],
   "metadata": {}
  },
  {
   "cell_type": "code",
   "execution_count": 3,
   "source": [
    "from natsort import index_natsorted\n",
    "dataset = dataset.sort_values(\n",
    "   by=\"n\",\n",
    "   key=lambda x: np.argsort(index_natsorted(dataset[\"n\"]))\n",
    ")\n",
    "print(dataset)"
   ],
   "outputs": [
    {
     "output_type": "stream",
     "name": "stdout",
     "text": [
      "      n  looped\n",
      "17    1       1\n",
      "54    1       1\n",
      "51    6       6\n",
      "91    6       6\n",
      "36    7       7\n",
      "..  ...     ...\n",
      "42   99       9\n",
      "98   99      53\n",
      "7   100       3\n",
      "8   100      41\n",
      "16  100      70\n",
      "\n",
      "[100 rows x 2 columns]\n"
     ]
    }
   ],
   "metadata": {}
  },
  {
   "cell_type": "code",
   "execution_count": 4,
   "source": [
    "X = dataset.iloc[:, :-1].values\n",
    "y = dataset.iloc[:, 1].values"
   ],
   "outputs": [],
   "metadata": {}
  },
  {
   "cell_type": "code",
   "execution_count": 5,
   "source": [
    "from sklearn.linear_model import LinearRegression\n",
    "regressor = LinearRegression()\n",
    "regressor.fit(X, y)"
   ],
   "outputs": [
    {
     "output_type": "execute_result",
     "data": {
      "text/plain": [
       "LinearRegression()"
      ]
     },
     "metadata": {},
     "execution_count": 5
    }
   ],
   "metadata": {}
  },
  {
   "cell_type": "code",
   "execution_count": 6,
   "source": [
    "plt.scatter(X, y, color='red', label='Data Points')\n",
    "plt.plot(X, regressor.predict(X), label='predicted')\n",
    "plt.xlabel('n ->')\n",
    "plt.legend()\n",
    "plt.ylabel('frequency ->')\n",
    "plt.title('n vs frequency(Binary Search)')\n",
    "plt.show()"
   ],
   "outputs": [
    {
     "output_type": "display_data",
     "data": {
      "text/plain": [
       "<Figure size 432x288 with 1 Axes>"
      ],
      "image/png": "[encoded data removed]"
     },
     "metadata": {
      "needs_background": "light"
     }
    }
   ],
   "metadata": {}
  },
  {
   "cell_type": "code",
   "execution_count": 7,
   "source": [
    "dataset = pd.read_csv('IS_Data.csv')"
   ],
   "outputs": [],
   "metadata": {}
  },
  {
   "cell_type": "code",
   "execution_count": 8,
   "source": [
    "from natsort import index_natsorted\n",
    "dataset = dataset.sort_values(\n",
    "   by=\"n\",\n",
    "   key=lambda x: np.argsort(index_natsorted(dataset[\"n\"]))\n",
    ")\n",
    "print(dataset)"
   ],
   "outputs": [
    {
     "output_type": "stream",
     "name": "stdout",
     "text": [
      "       n    looped\n",
      "16   143      5032\n",
      "59   254     14693\n",
      "87   260     16973\n",
      "20   276     19393\n",
      "80   307     23233\n",
      "..   ...       ...\n",
      "14  8751  19261173\n",
      "1   8809  19523413\n",
      "6   9030  20355185\n",
      "32  9609  23002689\n",
      "55  9954  25005758\n",
      "\n",
      "[100 rows x 2 columns]\n"
     ]
    }
   ],
   "metadata": {}
  },
  {
   "cell_type": "code",
   "execution_count": 9,
   "source": [
    "X = dataset.iloc[:, :-1].values\n",
    "y = dataset.iloc[:, 1].values\n",
    "y = y.reshape(len(y), 1)"
   ],
   "outputs": [],
   "metadata": {}
  },
  {
   "cell_type": "code",
   "execution_count": 14,
   "source": [
    "from sklearn.preprocessing import PolynomialFeatures\n",
    "from sklearn.linear_model import LinearRegression\n",
    "poly_reg = PolynomialFeatures(degree=2)\n",
    "X_poly = poly_reg.fit_transform(X)\n",
    "regressor = LinearRegression()\n",
    "regressor.fit(X_poly, y)"
   ],
   "outputs": [
    {
     "output_type": "stream",
     "name": "stdout",
     "text": [
      "[[1.0000000e+00 1.4300000e+02 2.0449000e+04]\n",
      " [1.0000000e+00 2.5400000e+02 6.4516000e+04]\n",
      " [1.0000000e+00 2.6000000e+02 6.7600000e+04]\n",
      " [1.0000000e+00 2.7600000e+02 7.6176000e+04]\n",
      " [1.0000000e+00 3.0700000e+02 9.4249000e+04]\n",
      " [1.0000000e+00 3.1000000e+02 9.6100000e+04]\n",
      " [1.0000000e+00 6.8500000e+02 4.6922500e+05]\n",
      " [1.0000000e+00 9.3500000e+02 8.7422500e+05]\n",
      " [1.0000000e+00 1.1390000e+03 1.2973210e+06]\n",
      " [1.0000000e+00 1.1460000e+03 1.3133160e+06]\n",
      " [1.0000000e+00 1.3600000e+03 1.8496000e+06]\n",
      " [1.0000000e+00 1.3820000e+03 1.9099240e+06]\n",
      " [1.0000000e+00 1.4000000e+03 1.9600000e+06]\n",
      " [1.0000000e+00 1.4240000e+03 2.0277760e+06]\n",
      " [1.0000000e+00 1.5790000e+03 2.4932410e+06]\n",
      " [1.0000000e+00 1.6430000e+03 2.6994490e+06]\n",
      " [1.0000000e+00 1.6750000e+03 2.8056250e+06]\n",
      " [1.0000000e+00 1.6990000e+03 2.8866010e+06]\n",
      " [1.0000000e+00 1.7460000e+03 3.0485160e+06]\n",
      " [1.0000000e+00 1.8320000e+03 3.3562240e+06]\n",
      " [1.0000000e+00 1.8380000e+03 3.3782440e+06]\n",
      " [1.0000000e+00 1.9260000e+03 3.7094760e+06]\n",
      " [1.0000000e+00 2.2920000e+03 5.2532640e+06]\n",
      " [1.0000000e+00 2.3260000e+03 5.4102760e+06]\n",
      " [1.0000000e+00 2.3920000e+03 5.7216640e+06]\n",
      " [1.0000000e+00 2.4400000e+03 5.9536000e+06]\n",
      " [1.0000000e+00 2.5420000e+03 6.4617640e+06]\n",
      " [1.0000000e+00 2.6550000e+03 7.0490250e+06]\n",
      " [1.0000000e+00 2.7090000e+03 7.3386810e+06]\n",
      " [1.0000000e+00 2.7380000e+03 7.4966440e+06]\n",
      " [1.0000000e+00 2.7840000e+03 7.7506560e+06]\n",
      " [1.0000000e+00 2.7920000e+03 7.7952640e+06]\n",
      " [1.0000000e+00 2.8910000e+03 8.3578810e+06]\n",
      " [1.0000000e+00 2.9340000e+03 8.6083560e+06]\n",
      " [1.0000000e+00 3.0800000e+03 9.4864000e+06]\n",
      " [1.0000000e+00 3.2710000e+03 1.0699441e+07]\n",
      " [1.0000000e+00 3.3580000e+03 1.1276164e+07]\n",
      " [1.0000000e+00 3.4070000e+03 1.1607649e+07]\n",
      " [1.0000000e+00 3.5590000e+03 1.2666481e+07]\n",
      " [1.0000000e+00 3.6560000e+03 1.3366336e+07]\n",
      " [1.0000000e+00 3.7360000e+03 1.3957696e+07]\n",
      " [1.0000000e+00 3.7890000e+03 1.4356521e+07]\n",
      " [1.0000000e+00 4.0450000e+03 1.6362025e+07]\n",
      " [1.0000000e+00 4.0680000e+03 1.6548624e+07]\n",
      " [1.0000000e+00 4.1510000e+03 1.7230801e+07]\n",
      " [1.0000000e+00 4.1940000e+03 1.7589636e+07]\n",
      " [1.0000000e+00 4.2300000e+03 1.7892900e+07]\n",
      " [1.0000000e+00 4.2560000e+03 1.8113536e+07]\n",
      " [1.0000000e+00 4.3250000e+03 1.8705625e+07]\n",
      " [1.0000000e+00 4.4050000e+03 1.9404025e+07]\n",
      " [1.0000000e+00 4.5840000e+03 2.1013056e+07]\n",
      " [1.0000000e+00 4.8540000e+03 2.3561316e+07]\n",
      " [1.0000000e+00 4.9670000e+03 2.4671089e+07]\n",
      " [1.0000000e+00 5.0720000e+03 2.5725184e+07]\n",
      " [1.0000000e+00 5.2790000e+03 2.7867841e+07]\n",
      " [1.0000000e+00 5.3570000e+03 2.8697449e+07]\n",
      " [1.0000000e+00 5.4540000e+03 2.9746116e+07]\n",
      " [1.0000000e+00 5.4820000e+03 3.0052324e+07]\n",
      " [1.0000000e+00 5.6410000e+03 3.1820881e+07]\n",
      " [1.0000000e+00 5.7510000e+03 3.3074001e+07]\n",
      " [1.0000000e+00 5.7630000e+03 3.3212169e+07]\n",
      " [1.0000000e+00 5.9980000e+03 3.5976004e+07]\n",
      " [1.0000000e+00 6.0150000e+03 3.6180225e+07]\n",
      " [1.0000000e+00 6.0210000e+03 3.6252441e+07]\n",
      " [1.0000000e+00 6.0650000e+03 3.6784225e+07]\n",
      " [1.0000000e+00 6.2370000e+03 3.8900169e+07]\n",
      " [1.0000000e+00 6.2800000e+03 3.9438400e+07]\n",
      " [1.0000000e+00 6.2920000e+03 3.9589264e+07]\n",
      " [1.0000000e+00 6.3500000e+03 4.0322500e+07]\n",
      " [1.0000000e+00 6.4100000e+03 4.1088100e+07]\n",
      " [1.0000000e+00 6.6750000e+03 4.4555625e+07]\n",
      " [1.0000000e+00 6.9750000e+03 4.8650625e+07]\n",
      " [1.0000000e+00 7.0440000e+03 4.9617936e+07]\n",
      " [1.0000000e+00 7.2560000e+03 5.2649536e+07]\n",
      " [1.0000000e+00 7.2660000e+03 5.2794756e+07]\n",
      " [1.0000000e+00 7.6250000e+03 5.8140625e+07]\n",
      " [1.0000000e+00 7.6300000e+03 5.8216900e+07]\n",
      " [1.0000000e+00 7.7090000e+03 5.9428681e+07]\n",
      " [1.0000000e+00 7.7250000e+03 5.9675625e+07]\n",
      " [1.0000000e+00 7.7420000e+03 5.9938564e+07]\n",
      " [1.0000000e+00 7.7930000e+03 6.0730849e+07]\n",
      " [1.0000000e+00 8.0720000e+03 6.5157184e+07]\n",
      " [1.0000000e+00 8.0940000e+03 6.5512836e+07]\n",
      " [1.0000000e+00 8.1420000e+03 6.6292164e+07]\n",
      " [1.0000000e+00 8.1540000e+03 6.6487716e+07]\n",
      " [1.0000000e+00 8.3590000e+03 6.9872881e+07]\n",
      " [1.0000000e+00 8.4180000e+03 7.0862724e+07]\n",
      " [1.0000000e+00 8.4370000e+03 7.1182969e+07]\n",
      " [1.0000000e+00 8.5030000e+03 7.2301009e+07]\n",
      " [1.0000000e+00 8.5140000e+03 7.2488196e+07]\n",
      " [1.0000000e+00 8.5380000e+03 7.2897444e+07]\n",
      " [1.0000000e+00 8.5410000e+03 7.2948681e+07]\n",
      " [1.0000000e+00 8.6010000e+03 7.3977201e+07]\n",
      " [1.0000000e+00 8.6160000e+03 7.4235456e+07]\n",
      " [1.0000000e+00 8.6770000e+03 7.5290329e+07]\n",
      " [1.0000000e+00 8.7510000e+03 7.6580001e+07]\n",
      " [1.0000000e+00 8.8090000e+03 7.7598481e+07]\n",
      " [1.0000000e+00 9.0300000e+03 8.1540900e+07]\n",
      " [1.0000000e+00 9.6090000e+03 9.2332881e+07]\n",
      " [1.0000000e+00 9.9540000e+03 9.9082116e+07]]\n"
     ]
    },
    {
     "output_type": "execute_result",
     "data": {
      "text/plain": [
       "LinearRegression()"
      ]
     },
     "metadata": {},
     "execution_count": 14
    }
   ],
   "metadata": {}
  },
  {
   "cell_type": "code",
   "execution_count": null,
   "source": [
    "plt.scatter(X, y, color='red', label='Data points')\n",
    "plt.plot(X, regressor.predict(X), label='regression line')\n",
    "plt.xlabel('n ->')\n",
    "plt.legend()\n",
    "plt.ylabel('frequency ->')\n",
    "plt.title('n vs frequency(Insertion Sort)')\n",
    "plt.show()"
   ],
   "outputs": [
    {
     "output_type": "display_data",
     "data": {
      "text/plain": [
       "<Figure size 432x288 with 1 Axes>"
      ],
      "image/png": "[encoded data removed]"
     },
     "metadata": {
      "needs_background": "light"
     }
    }
   ],
   "metadata": {}
  }
 ],
 "metadata": {
  "orig_nbformat": 4,
  "language_info": {
   "name": "python",
   "version": "3.8.10",
   "mimetype": "text/x-python",
   "codemirror_mode": {
    "name": "ipython",
    "version": 3
   },
   "pygments_lexer": "ipython3",
   "nbconvert_exporter": "python",
   "file_extension": ".py"
  },
  "kernelspec": {
   "name": "python3",
   "display_name": "Python 3.8.10 64-bit"
  },
  "interpreter": {
   "hash": "916dbcbb3f70747c44a77c7bcd40155683ae19c65e1c03b4aa3499c5328201f1"
  }
 },
 "nbformat": 4,
 "nbformat_minor": 2
}