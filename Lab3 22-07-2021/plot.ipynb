{
 "cells": [
  {
   "cell_type": "code",
   "execution_count": 1,
   "source": [
    "import matplotlib.pyplot as plt\n",
    "import pandas as pd\n",
    "import numpy as np"
   ],
   "outputs": [],
   "metadata": {}
  },
  {
   "cell_type": "code",
   "execution_count": 2,
   "source": [
    "dataset = pd.read_csv('Data.csv')"
   ],
   "outputs": [],
   "metadata": {}
  },
  {
   "cell_type": "code",
   "execution_count": 3,
   "source": [
    "from natsort import index_natsorted\n",
    "dataset = dataset.sort_values(\n",
    "   by=\"n\",\n",
    "   key=lambda x: np.argsort(index_natsorted(dataset[\"n\"]))\n",
    ")\n",
    "print(dataset)"
   ],
   "outputs": [
    {
     "output_type": "stream",
     "name": "stdout",
     "text": [
      "     n  frequecny\n",
      "0   51          9\n",
      "1   95         76\n",
      "2   69         69\n",
      "3   53         53\n",
      "4   74         21\n",
      "5   29         15\n",
      "6   67         67\n",
      "7   38         21\n",
      "8   31         31\n",
      "9   21         21\n",
      "10  12         12\n",
      "11  68         68\n",
      "12  34         34\n",
      "13  30         30\n",
      "14  12         12\n",
      "15  48         48\n",
      "16   2          2\n",
      "17  32          4\n",
      "18  62         17\n",
      "19  48         48\n",
      "20  69         69\n",
      "21  65         65\n",
      "22   8          8\n",
      "23  89         62\n",
      "24  41         41\n",
      "25  92          9\n",
      "26  41         23\n",
      "27  74         74\n",
      "28  65         33\n",
      "29  62         17\n"
     ]
    }
   ],
   "metadata": {}
  },
  {
   "cell_type": "code",
   "execution_count": 4,
   "source": [
    "X = dataset.iloc[:, :-1].values\n",
    "y = dataset.iloc[:, 1].values"
   ],
   "outputs": [],
   "metadata": {}
  },
  {
   "cell_type": "code",
   "execution_count": 5,
   "source": [
    "from sklearn.linear_model import LinearRegression\n",
    "regressor = LinearRegression()\n",
    "regressor.fit(X, y)"
   ],
   "outputs": [
    {
     "output_type": "execute_result",
     "data": {
      "text/plain": [
       "LinearRegression()"
      ]
     },
     "metadata": {},
     "execution_count": 5
    }
   ],
   "metadata": {}
  },
  {
   "cell_type": "code",
   "execution_count": 6,
   "source": [
    "plt.scatter(X, y, color='red')\n",
    "plt.plot(X, regressor.predict(X))\n",
    "plt.xlabel('n ->')\n",
    "plt.ylabel('frequency ->')\n",
    "plt.title('n vs frequency(Linear Search)')\n",
    "plt.show()"
   ],
   "outputs": [
    {
     "output_type": "display_data",
     "data": {
      "text/plain": [
       "<Figure size 432x288 with 1 Axes>"
      ],
      "image/png": "[encoded data removed]"
     },
     "metadata": {
      "needs_background": "light"
     }
    }
   ],
   "metadata": {}
  },
  {
   "cell_type": "code",
   "execution_count": 7,
   "source": [
    "dataset = pd.read_csv('iData.csv')"
   ],
   "outputs": [],
   "metadata": {}
  },
  {
   "cell_type": "code",
   "execution_count": 8,
   "source": [
    "from natsort import index_natsorted\n",
    "dataset = dataset.sort_values(\n",
    "   by=\"n\",\n",
    "   key=lambda x: np.argsort(index_natsorted(dataset[\"n\"]))\n",
    ")\n",
    "print(dataset)"
   ],
   "outputs": [
    {
     "output_type": "stream",
     "name": "stdout",
     "text": [
      "       n  frequency\n",
      "0   1591     629522\n",
      "1   9978   24998415\n",
      "2   4943    6163069\n",
      "3   7473   13934425\n",
      "4   8685   18965520\n",
      "5   5025    6357110\n",
      "6    334      28834\n",
      "7   4954    6174772\n",
      "8   4486    5027588\n",
      "9   1120     319096\n",
      "10  2952    2179450\n",
      "11  8414   17557351\n",
      "12  5885    8709836\n",
      "13  1296     424839\n",
      "14   887     191055\n",
      "15  4338    4671759\n",
      "16  8010   16299760\n",
      "17  6954   12079613\n",
      "18   724     132586\n",
      "19  4303    4610856\n",
      "20  5562    7850252\n",
      "21  2091    1083526\n",
      "22  7700   14797776\n",
      "23  3292    2675028\n",
      "24  4177    4326884\n",
      "25   102       2311\n",
      "26  3516    3086163\n",
      "27   477      54923\n",
      "28   986     236257\n",
      "29  5929    8757717\n"
     ]
    }
   ],
   "metadata": {}
  },
  {
   "cell_type": "code",
   "execution_count": 10,
   "source": [
    "X = dataset.iloc[:, :-1].values\n",
    "y = dataset.iloc[:, 1].values\n",
    "y = y.reshape(len(y), 1)"
   ],
   "outputs": [],
   "metadata": {}
  },
  {
   "cell_type": "code",
   "execution_count": 11,
   "source": [
    "from sklearn.preprocessing import PolynomialFeatures\n",
    "poly_reg = PolynomialFeatures(degree=2)\n",
    "X_poly = poly_reg.fit_transform(X)\n",
    "regressor = LinearRegression()\n",
    "regressor.fit(X_poly, y)"
   ],
   "outputs": [
    {
     "output_type": "execute_result",
     "data": {
      "text/plain": [
       "LinearRegression()"
      ]
     },
     "metadata": {},
     "execution_count": 11
    }
   ],
   "metadata": {}
  },
  {
   "cell_type": "code",
   "execution_count": 12,
   "source": [
    "plt.scatter(X, y, color='red')\n",
    "plt.plot(X, regressor.predict(X_poly))\n",
    "plt.xlabel('n ->')\n",
    "plt.ylabel('frequency ->')\n",
    "plt.title('n vs frequency(Insertion Sort)')\n",
    "plt.show()"
   ],
   "outputs": [
    {
     "output_type": "display_data",
     "data": {
      "text/plain": [
       "<Figure size 432x288 with 1 Axes>"
      ],
      "image/png": "[encoded data removed]"
     },
     "metadata": {
      "needs_background": "light"
     }
    }
   ],
   "metadata": {}
  },
  {
   "cell_type": "code",
   "execution_count": null,
   "source": [],
   "outputs": [],
   "metadata": {}
  }
 ],
 "metadata": {
  "orig_nbformat": 4,
  "language_info": {
   "name": "python",
   "version": "3.8.10",
   "mimetype": "text/x-python",
   "codemirror_mode": {
    "name": "ipython",
    "version": 3
   },
   "pygments_lexer": "ipython3",
   "nbconvert_exporter": "python",
   "file_extension": ".py"
  },
  "kernelspec": {
   "name": "python3",
   "display_name": "Python 3.8.10 64-bit"
  },
  "interpreter": {
   "hash": "31f2aee4e71d21fbe5cf8b01ff0e069b9275f58929596ceb00d14d90e3e16cd6"
  }
 },
 "nbformat": 4,
 "nbformat_minor": 2
}