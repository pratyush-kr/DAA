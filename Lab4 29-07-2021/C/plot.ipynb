{
 "cells": [
  {
   "cell_type": "code",
   "execution_count": 1,
   "source": [
    "import matplotlib.pyplot as plt\n",
    "import pandas as pd\n",
    "import numpy as np\n",
    "import math"
   ],
   "outputs": [],
   "metadata": {}
  },
  {
   "cell_type": "code",
   "execution_count": 2,
   "source": [
    "dataset = pd.read_csv('BS_data.csv')"
   ],
   "outputs": [],
   "metadata": {}
  },
  {
   "cell_type": "code",
   "execution_count": 3,
   "source": [
    "from natsort import index_natsorted\n",
    "dataset = dataset.sort_values(\n",
    "   by=\"n\",\n",
    "   key=lambda x: np.argsort(index_natsorted(dataset[\"n\"]))\n",
    ")\n",
    "print(dataset)"
   ],
   "outputs": [
    {
     "output_type": "stream",
     "name": "stdout",
     "text": [
      "     n  looped\n",
      "43   1       2\n",
      "25   3       2\n",
      "50   3       3\n",
      "81   4       3\n",
      "19   6       4\n",
      "..  ..     ...\n",
      "32  61       6\n",
      "93  63       7\n",
      "9   64       6\n",
      "69  64       6\n",
      "78  65       6\n",
      "\n",
      "[100 rows x 2 columns]\n"
     ]
    }
   ],
   "metadata": {}
  },
  {
   "cell_type": "code",
   "execution_count": 4,
   "source": [
    "X = dataset.iloc[:, :-1].values\n",
    "y = dataset.iloc[:, 1].values"
   ],
   "outputs": [],
   "metadata": {}
  },
  {
   "cell_type": "code",
   "execution_count": 5,
   "source": [
    "y1 = []\n",
    "for i in X:\n",
    "    y1 += [np.log2(i)]"
   ],
   "outputs": [
    {
     "output_type": "stream",
     "name": "stdout",
     "text": [
      "[array([0.]), array([1.5849625]), array([1.5849625]), array([2.]), array([2.5849625]), array([2.5849625]), array([3.]), array([3.]), array([3.169925]), array([3.45943162]), array([3.45943162]), array([3.5849625]), array([3.5849625]), array([3.5849625]), array([3.9068906]), array([3.9068906]), array([3.9068906]), array([4.]), array([4.08746284]), array([4.08746284]), array([4.08746284]), array([4.32192809]), array([4.32192809]), array([4.32192809]), array([4.39231742]), array([4.39231742]), array([4.45943162]), array([4.52356196]), array([4.52356196]), array([4.5849625]), array([4.5849625]), array([4.70043972]), array([4.7548875]), array([4.80735492]), array([4.857981]), array([4.9068906]), array([4.9068906]), array([4.95419631]), array([5.]), array([5.04439412]), array([5.08746284]), array([5.12928302]), array([5.169925]), array([5.169925]), array([5.20945337]), array([5.28540222]), array([5.28540222]), array([5.28540222]), array([5.32192809]), array([5.32192809]), array([5.357552]), array([5.357552]), array([5.42626475]), array([5.45943162]), array([5.52356196]), array([5.52356196]), array([5.55458885]), array([5.55458885]), array([5.5849625]), array([5.5849625]), array([5.5849625]), array([5.5849625]), array([5.61470984]), array([5.61470984]), array([5.61470984]), array([5.64385619]), array([5.64385619]), array([5.64385619]), array([5.67242534]), array([5.67242534]), array([5.70043972]), array([5.70043972]), array([5.70043972]), array([5.72792045]), array([5.72792045]), array([5.72792045]), array([5.72792045]), array([5.72792045]), array([5.72792045]), array([5.7548875]), array([5.7548875]), array([5.7548875]), array([5.78135971]), array([5.78135971]), array([5.80735492]), array([5.80735492]), array([5.83289001]), array([5.857981]), array([5.857981]), array([5.88264305]), array([5.88264305]), array([5.88264305]), array([5.9068906]), array([5.9068906]), array([5.93073734]), array([5.93073734]), array([5.97727992]), array([6.]), array([6.]), array([6.02236781])]\n"
     ]
    }
   ],
   "metadata": {}
  },
  {
   "cell_type": "code",
   "execution_count": 6,
   "source": [
    "plt.scatter(X, y, color='red')\n",
    "plt.plot(X, y1)\n",
    "plt.xlabel('n ->')\n",
    "plt.ylabel('frequency ->')\n",
    "plt.title('n vs frequency(Binary Search)')\n",
    "plt.show()"
   ],
   "outputs": [
    {
     "output_type": "display_data",
     "data": {
      "text/plain": [
       "<Figure size 432x288 with 1 Axes>"
      ],
      "image/png": "[encoded data removed]"
     },
     "metadata": {
      "needs_background": "light"
     }
    }
   ],
   "metadata": {}
  },
  {
   "cell_type": "code",
   "execution_count": 7,
   "source": [
    "dataset = pd.read_csv('MS_data.csv')"
   ],
   "outputs": [],
   "metadata": {}
  },
  {
   "cell_type": "code",
   "execution_count": 8,
   "source": [
    "from natsort import index_natsorted\n",
    "dataset = dataset.sort_values(\n",
    "   by=\"n\",\n",
    "   key=lambda x: np.argsort(index_natsorted(dataset[\"n\"]))\n",
    ")\n",
    "print(dataset)"
   ],
   "outputs": [
    {
     "output_type": "stream",
     "name": "stdout",
     "text": [
      "       n  looped\n",
      "15   551    4344\n",
      "7    730    6051\n",
      "25   990    8642\n",
      "11  1046    9193\n",
      "23  1488   13856\n",
      "26  2160   21199\n",
      "8   3242   33881\n",
      "12  3243   33798\n",
      "17  3370   35280\n",
      "24  4097   44003\n",
      "3   4280   46279\n",
      "22  4644   50757\n",
      "6   4710   51629\n",
      "14  4714   51650\n",
      "13  5031   55560\n",
      "29  5462   61098\n",
      "0   5911   66768\n",
      "10  6353   72311\n",
      "19  6365   72427\n",
      "16  6390   72854\n",
      "2   6811   78114\n",
      "18  7205   83261\n",
      "21  8320   97753\n",
      "9   8367   98507\n",
      "5   8671  102483\n",
      "28  8951  106295\n",
      "27  8981  106643\n",
      "1   9346  111523\n",
      "4   9888  118909\n",
      "20  9933  119462\n"
     ]
    }
   ],
   "metadata": {}
  },
  {
   "cell_type": "code",
   "execution_count": 9,
   "source": [
    "X = dataset.iloc[:, :-1].values\n",
    "y = dataset.iloc[:, 1].values\n",
    "y = y.reshape(len(y), 1)"
   ],
   "outputs": [],
   "metadata": {}
  },
  {
   "cell_type": "code",
   "execution_count": 10,
   "source": [
    "from sklearn.linear_model import LinearRegression\n",
    "regressor = LinearRegression()\n",
    "regressor.fit(X, y)"
   ],
   "outputs": [
    {
     "output_type": "execute_result",
     "data": {
      "text/plain": [
       "LinearRegression()"
      ]
     },
     "metadata": {},
     "execution_count": 10
    }
   ],
   "metadata": {}
  },
  {
   "cell_type": "code",
   "execution_count": 11,
   "source": [
    "plt.scatter(X, y, color='red', label='Data points')\n",
    "plt.plot(X, regressor.predict(X), label='regression line')\n",
    "plt.plot([0, 1, 2, 3, 160, 120000], [0, 1, 2, 3, 160, 120000], color ='green', label='linear model')\n",
    "plt.xlabel('n ->')\n",
    "plt.legend()\n",
    "plt.ylabel('frequency ->')\n",
    "plt.title('n vs frequency(Merge Sort)')\n",
    "plt.show()"
   ],
   "outputs": [
    {
     "output_type": "display_data",
     "data": {
      "text/plain": [
       "<Figure size 432x288 with 1 Axes>"
      ],
      "image/png": "[encoded data removed]"
     },
     "metadata": {
      "needs_background": "light"
     }
    }
   ],
   "metadata": {}
  }
 ],
 "metadata": {
  "orig_nbformat": 4,
  "language_info": {
   "name": "python",
   "version": "3.8.10",
   "mimetype": "text/x-python",
   "codemirror_mode": {
    "name": "ipython",
    "version": 3
   },
   "pygments_lexer": "ipython3",
   "nbconvert_exporter": "python",
   "file_extension": ".py"
  },
  "kernelspec": {
   "name": "python3",
   "display_name": "Python 3.8.10 64-bit"
  },
  "interpreter": {
   "hash": "916dbcbb3f70747c44a77c7bcd40155683ae19c65e1c03b4aa3499c5328201f1"
  }
 },
 "nbformat": 4,
 "nbformat_minor": 2
}