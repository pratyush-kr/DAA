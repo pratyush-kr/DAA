{
 "cells": [
  {
   "cell_type": "code",
   "execution_count": 1,
   "source": [
    "import matplotlib.pyplot as plt\n",
    "import pandas as pd\n",
    "import numpy as np\n",
    "import math"
   ],
   "outputs": [],
   "metadata": {}
  },
  {
   "cell_type": "code",
   "execution_count": 2,
   "source": [
    "dataset = pd.read_csv('Bs_data.csv')"
   ],
   "outputs": [],
   "metadata": {}
  },
  {
   "cell_type": "code",
   "execution_count": 3,
   "source": [
    "from natsort import index_natsorted\n",
    "dataset = dataset.sort_values(\n",
    "   by=\"n\",\n",
    "   key=lambda x: np.argsort(index_natsorted(dataset[\"n\"]))\n",
    ")\n",
    "print(dataset)"
   ],
   "outputs": [
    {
     "output_type": "stream",
     "name": "stdout",
     "text": [
      "     n  timetaken\n",
      "0    5          3\n",
      "19   6          3\n",
      "15   7          3\n",
      "20   8          3\n",
      "5   13          4\n",
      "6   17          4\n",
      "3   19          5\n",
      "23  19          5\n",
      "12  22          4\n",
      "2   24          5\n",
      "11  24          5\n",
      "13  36          4\n",
      "21  40          5\n",
      "8   41          6\n",
      "4   42          4\n",
      "16  42          6\n",
      "10  43          5\n",
      "25  43          5\n",
      "1   44          6\n",
      "22  44          4\n",
      "29  44          3\n",
      "7   46          6\n",
      "24  47          6\n",
      "26  47          5\n",
      "9   48          5\n",
      "27  49          6\n",
      "28  52          5\n",
      "17  63          6\n",
      "14  64          5\n",
      "18  64          6\n"
     ]
    }
   ],
   "metadata": {}
  },
  {
   "cell_type": "code",
   "execution_count": 4,
   "source": [
    "X = dataset.iloc[:, :-1].values\n",
    "y = dataset.iloc[:, 1].values"
   ],
   "outputs": [],
   "metadata": {}
  },
  {
   "cell_type": "code",
   "execution_count": 5,
   "source": [
    "y1 = []\n",
    "for i in X:\n",
    "    y1 += [np.log2(i)]\n",
    "print(y1)"
   ],
   "outputs": [
    {
     "output_type": "stream",
     "name": "stdout",
     "text": [
      "[array([2.32192809]), array([2.5849625]), array([2.80735492]), array([3.]), array([3.70043972]), array([4.08746284]), array([4.24792751]), array([4.24792751]), array([4.45943162]), array([4.5849625]), array([4.5849625]), array([5.169925]), array([5.32192809]), array([5.357552]), array([5.39231742]), array([5.39231742]), array([5.42626475]), array([5.42626475]), array([5.45943162]), array([5.45943162]), array([5.45943162]), array([5.52356196]), array([5.55458885]), array([5.55458885]), array([5.5849625]), array([5.61470984]), array([5.70043972]), array([5.97727992]), array([6.]), array([6.])]\n"
     ]
    }
   ],
   "metadata": {}
  },
  {
   "cell_type": "code",
   "execution_count": 6,
   "source": [
    "plt.scatter(X, y, color='red')\n",
    "plt.plot(X, y1)\n",
    "plt.xlabel('n ->')\n",
    "plt.ylabel('frequency ->')\n",
    "plt.title('n vs frequency(Binary Search)')\n",
    "plt.show()"
   ],
   "outputs": [
    {
     "output_type": "display_data",
     "data": {
      "text/plain": [
       "<Figure size 432x288 with 1 Axes>"
      ],
      "image/png": "[encoded data removed]"
     },
     "metadata": {
      "needs_background": "light"
     }
    }
   ],
   "metadata": {}
  },
  {
   "cell_type": "code",
   "execution_count": 7,
   "source": [
    "dataset = pd.read_csv('MS_data.csv')"
   ],
   "outputs": [],
   "metadata": {}
  },
  {
   "cell_type": "code",
   "execution_count": 8,
   "source": [
    "from natsort import index_natsorted\n",
    "dataset = dataset.sort_values(\n",
    "   by=\"n\",\n",
    "   key=lambda x: np.argsort(index_natsorted(dataset[\"n\"]))\n",
    ")\n",
    "print(dataset)"
   ],
   "outputs": [
    {
     "output_type": "stream",
     "name": "stdout",
     "text": [
      "       n  timetaken\n",
      "16   273       1875\n",
      "18   940       8083\n",
      "8    949       8177\n",
      "23  1254      11380\n",
      "5   1654      15615\n",
      "3   1882      18139\n",
      "11  2590      26156\n",
      "26  2749      27997\n",
      "1   2830      28928\n",
      "10  2900      29808\n",
      "12  2992      30797\n",
      "20  3393      35514\n",
      "2   3450      36233\n",
      "28  3498      36791\n",
      "13  4628      50514\n",
      "22  6667      76340\n",
      "19  6735      77274\n",
      "25  6821      78462\n",
      "17  6853      78840\n",
      "4   7289      84261\n",
      "14  7674      89379\n",
      "9   7722      90080\n",
      "0   7746      90325\n",
      "27  7857      91800\n",
      "15  7881      92037\n",
      "21  8105      94985\n",
      "6   8212      96436\n",
      "29  9037     107436\n",
      "24  9728     116676\n",
      "7   9979     120122\n"
     ]
    }
   ],
   "metadata": {}
  },
  {
   "cell_type": "code",
   "execution_count": 9,
   "source": [
    "X = dataset.iloc[:, :-1].values\n",
    "y = dataset.iloc[:, 1].values\n",
    "y = y.reshape(len(y), 1)"
   ],
   "outputs": [],
   "metadata": {}
  },
  {
   "cell_type": "code",
   "execution_count": 10,
   "source": [
    "from sklearn.linear_model import LinearRegression\n",
    "regressor = LinearRegression()\n",
    "regressor.fit(X, y)"
   ],
   "outputs": [
    {
     "output_type": "execute_result",
     "data": {
      "text/plain": [
       "LinearRegression()"
      ]
     },
     "metadata": {},
     "execution_count": 10
    }
   ],
   "metadata": {}
  },
  {
   "cell_type": "code",
   "execution_count": 11,
   "source": [
    "plt.scatter(X, y, color='red', label='Data points')\n",
    "plt.plot(X, regressor.predict(X), label='regression line')\n",
    "plt.plot([0, 1, 2, 3, 160, 120000], [0, 1, 2, 3, 160, 120000], color ='green', label='linear model')\n",
    "plt.xlabel('n ->')\n",
    "plt.legend()\n",
    "plt.ylabel('frequency ->')\n",
    "plt.title('n vs frequency(Merge Sort)')\n",
    "plt.show()"
   ],
   "outputs": [
    {
     "output_type": "display_data",
     "data": {
      "text/plain": [
       "<Figure size 432x288 with 1 Axes>"
      ],
      "image/png": "[encoded data removed]"
     },
     "metadata": {
      "needs_background": "light"
     }
    }
   ],
   "metadata": {}
  }
 ],
 "metadata": {
  "orig_nbformat": 4,
  "language_info": {
   "name": "python",
   "version": "3.8.10",
   "mimetype": "text/x-python",
   "codemirror_mode": {
    "name": "ipython",
    "version": 3
   },
   "pygments_lexer": "ipython3",
   "nbconvert_exporter": "python",
   "file_extension": ".py"
  },
  "kernelspec": {
   "name": "python3",
   "display_name": "Python 3.8.10 64-bit"
  },
  "interpreter": {
   "hash": "916dbcbb3f70747c44a77c7bcd40155683ae19c65e1c03b4aa3499c5328201f1"
  }
 },
 "nbformat": 4,
 "nbformat_minor": 2
}