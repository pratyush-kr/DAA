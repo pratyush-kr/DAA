{
 "cells": [
  {
   "cell_type": "code",
   "execution_count": 1,
   "source": [
    "import matplotlib.pyplot as plt\n",
    "import pandas as pd\n",
    "import numpy as np\n",
    "import math"
   ],
   "outputs": [],
   "metadata": {}
  },
  {
   "cell_type": "code",
   "execution_count": 2,
   "source": [
    "dataset = pd.read_csv('Bs_data.csv')"
   ],
   "outputs": [],
   "metadata": {}
  },
  {
   "cell_type": "code",
   "execution_count": 3,
   "source": [
    "from natsort import index_natsorted\n",
    "dataset = dataset.sort_values(\n",
    "   by=\"n\",\n",
    "   key=lambda x: np.argsort(index_natsorted(dataset[\"n\"]))\n",
    ")\n",
    "print(dataset)"
   ],
   "outputs": [
    {
     "output_type": "stream",
     "name": "stdout",
     "text": [
      "     n  timetaken\n",
      "0    5          3\n",
      "19   6          3\n",
      "15   7          3\n",
      "20   8          3\n",
      "5   13          4\n",
      "6   17          4\n",
      "3   19          5\n",
      "23  19          5\n",
      "12  22          4\n",
      "2   24          5\n",
      "11  24          5\n",
      "13  36          4\n",
      "21  40          5\n",
      "8   41          6\n",
      "4   42          4\n",
      "16  42          6\n",
      "10  43          5\n",
      "25  43          5\n",
      "1   44          6\n",
      "22  44          4\n",
      "29  44          3\n",
      "7   46          6\n",
      "24  47          6\n",
      "26  47          5\n",
      "9   48          5\n",
      "27  49          6\n",
      "28  52          5\n",
      "17  63          6\n",
      "14  64          5\n",
      "18  64          6\n"
     ]
    }
   ],
   "metadata": {}
  },
  {
   "cell_type": "code",
   "execution_count": 4,
   "source": [
    "X = dataset.iloc[:, :-1].values\n",
    "y = dataset.iloc[:, 1].values"
   ],
   "outputs": [],
   "metadata": {}
  },
  {
   "cell_type": "code",
   "execution_count": 5,
   "source": [
    "y1 = []\n",
    "for i in X:\n",
    "    y1 += [np.log2(i)]\n",
    "print(y1)"
   ],
   "outputs": [
    {
     "output_type": "stream",
     "name": "stdout",
     "text": [
      "[array([2.32192809]), array([2.5849625]), array([2.80735492]), array([3.]), array([3.70043972]), array([4.08746284]), array([4.24792751]), array([4.24792751]), array([4.45943162]), array([4.5849625]), array([4.5849625]), array([5.169925]), array([5.32192809]), array([5.357552]), array([5.39231742]), array([5.39231742]), array([5.42626475]), array([5.42626475]), array([5.45943162]), array([5.45943162]), array([5.45943162]), array([5.52356196]), array([5.55458885]), array([5.55458885]), array([5.5849625]), array([5.61470984]), array([5.70043972]), array([5.97727992]), array([6.]), array([6.])]\n"
     ]
    }
   ],
   "metadata": {}
  },
  {
   "cell_type": "code",
   "execution_count": 6,
   "source": [
    "plt.scatter(X, y, color='red')\n",
    "plt.plot(X, y1)\n",
    "plt.xlabel('n ->')\n",
    "plt.ylabel('frequency ->')\n",
    "plt.title('n vs frequency(Binary Search)')\n",
    "plt.show()"
   ],
   "outputs": [
    {
     "output_type": "display_data",
     "data": {
      "text/plain": [
       "<Figure size 432x288 with 1 Axes>"
      ],
      "image/png": "[encoded data removed]"
     },
     "metadata": {
      "needs_background": "light"
     }
    }
   ],
   "metadata": {}
  },
  {
   "cell_type": "code",
   "execution_count": 7,
   "source": [
    "dataset = pd.read_csv('MS_data.csv')"
   ],
   "outputs": [],
   "metadata": {}
  },
  {
   "cell_type": "code",
   "execution_count": 8,
   "source": [
    "from natsort import index_natsorted\n",
    "dataset = dataset.sort_values(\n",
    "   by=\"n\",\n",
    "   key=lambda x: np.argsort(index_natsorted(dataset[\"n\"]))\n",
    ")\n",
    "print(dataset)"
   ],
   "outputs": [
    {
     "output_type": "stream",
     "name": "stdout",
     "text": [
      "     n  timetaken\n",
      "21   1          1\n",
      "3    3          3\n",
      "5    4          4\n",
      "0   15         15\n",
      "18  17         17\n",
      "16  19         19\n",
      "11  20         20\n",
      "4   21         21\n",
      "25  27         27\n",
      "15  34         34\n",
      "8   35         35\n",
      "9   43         43\n",
      "13  46         46\n",
      "24  51         51\n",
      "19  52         52\n",
      "6   53         53\n",
      "29  54         54\n",
      "27  56         56\n",
      "14  65         65\n",
      "2   66         66\n",
      "12  75         75\n",
      "1   78         78\n",
      "7   78         78\n",
      "22  81         81\n",
      "23  81         81\n",
      "26  84         84\n",
      "17  88         88\n",
      "20  95         95\n",
      "10  97         97\n",
      "28  99         99\n"
     ]
    }
   ],
   "metadata": {}
  },
  {
   "cell_type": "code",
   "execution_count": 9,
   "source": [
    "X = dataset.iloc[:, :-1].values\n",
    "y = dataset.iloc[:, 1].values\n",
    "y = y.reshape(len(y), 1)"
   ],
   "outputs": [],
   "metadata": {}
  },
  {
   "cell_type": "code",
   "execution_count": 10,
   "source": [
    "from sklearn.linear_model import LinearRegression\n",
    "regressor = LinearRegression()\n",
    "regressor.fit(X, y)"
   ],
   "outputs": [
    {
     "output_type": "execute_result",
     "data": {
      "text/plain": [
       "LinearRegression()"
      ]
     },
     "metadata": {},
     "execution_count": 10
    }
   ],
   "metadata": {}
  },
  {
   "cell_type": "code",
   "execution_count": 11,
   "source": [
    "plt.scatter(X, y, color='red')\n",
    "plt.plot(X, regressor.predict(X))\n",
    "#plt.plot([0, 1, 2, 3, 160], [0, 1, 2, 3, 160], color ='grey')\n",
    "plt.xlabel('n ->')\n",
    "plt.ylabel('frequency ->')\n",
    "plt.title('n vs frequency(Merge Sort)')\n",
    "plt.show()"
   ],
   "outputs": [
    {
     "output_type": "display_data",
     "data": {
      "text/plain": [
       "<Figure size 432x288 with 1 Axes>"
      ],
      "image/png": "[encoded data removed]"
     },
     "metadata": {
      "needs_background": "light"
     }
    }
   ],
   "metadata": {}
  }
 ],
 "metadata": {
  "orig_nbformat": 4,
  "language_info": {
   "name": "python",
   "version": "3.8.10",
   "mimetype": "text/x-python",
   "codemirror_mode": {
    "name": "ipython",
    "version": 3
   },
   "pygments_lexer": "ipython3",
   "nbconvert_exporter": "python",
   "file_extension": ".py"
  },
  "kernelspec": {
   "name": "python3",
   "display_name": "Python 3.8.10 64-bit"
  },
  "interpreter": {
   "hash": "916dbcbb3f70747c44a77c7bcd40155683ae19c65e1c03b4aa3499c5328201f1"
  }
 },
 "nbformat": 4,
 "nbformat_minor": 2
}